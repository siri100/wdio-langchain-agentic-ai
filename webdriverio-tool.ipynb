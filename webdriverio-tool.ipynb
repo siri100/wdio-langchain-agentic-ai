{
 "cells": [
  {
   "cell_type": "markdown",
   "id": "2bdfad6a",
   "metadata": {},
   "source": [
    "### WebdriverIO Langchain tools"
   ]
  },
  {
   "cell_type": "markdown",
   "id": "4471eade",
   "metadata": {},
   "source": [
    "### Load local LLM "
   ]
  },
  {
   "cell_type": "code",
   "execution_count": null,
   "id": "aedab9c1",
   "metadata": {},
   "outputs": [],
   "source": [
    "# !pip install -U langchain-openai\n",
    "# !pip install dotenv"
   ]
  },
  {
   "cell_type": "code",
   "execution_count": null,
   "id": "732ddc70",
   "metadata": {},
   "outputs": [],
   "source": [
    "import os\n",
    "from dotenv import load_dotenv\n",
    "from langchain_openai import ChatOpenAI\n",
    "\n",
    "load_dotenv()\n",
    "\n",
    "llm = ChatOpenAI(\n",
    "    model=\"gpt-4.1\",\n",
    "    temperature=0.5,\n",
    "    openai_api_key=os.getenv(\"OPENAI_API_KEY\")\n",
    ")"
   ]
  },
  {
   "cell_type": "code",
   "execution_count": null,
   "id": "fdf9a7b0",
   "metadata": {},
   "outputs": [],
   "source": [
    "# from langchain_ollama import ChatOllama\n",
    "\n",
    "# llm = ChatOllama(\n",
    "#     base_url=\"http://localhost:11434\",\n",
    "#     model=\"deepseek-r1:8b\",\n",
    "#     temperature=0.5,)"
   ]
  },
  {
   "cell_type": "markdown",
   "id": "a117c717",
   "metadata": {},
   "source": [
    "### open_browser tool definition "
   ]
  },
  {
   "cell_type": "code",
   "execution_count": null,
   "id": "923a1834",
   "metadata": {},
   "outputs": [],
   "source": [
    "from langchain.tools import tool\n",
    "import requests\n",
    "\n",
    "SERVER_URL = \"http://localhost:3000\"\n",
    "\n",
    "@tool\n",
    "def open_browser(_=None) -> str:\n",
    "    \"\"\"Open Chrome browser using WebdriverIO server.\"\"\"\n",
    "    try:\n",
    "        resp = requests.post(f\"{SERVER_URL}/open\")\n",
    "        return resp.text\n",
    "    except Exception as e:\n",
    "        return f\"Error calling WebdriverIO server: {e}\"\n",
    "\n",
    "@tool\n",
    "def navigate_to_url(url: str) -> str:\n",
    "    \"\"\"Navigate to the given URL using WebdriverIO server.\"\"\"\n",
    "    try:\n",
    "        resp = requests.post(f\"{SERVER_URL}/navigate\", json={\"url\": url})\n",
    "        return resp.text\n",
    "    except Exception as e:\n",
    "        return f\"Error calling WebdriverIO server: {e}\"\n",
    "\n",
    "@tool\n",
    "def click_action(element_selector: str) -> str:\n",
    "    \"\"\"Click an element in Chrome browser using WebdriverIO server.\"\"\"\n",
    "    try:\n",
    "        resp = requests.post(f\"{SERVER_URL}/click\", json={\"selector\": element_selector})\n",
    "        return resp.text\n",
    "    except Exception as e:\n",
    "        return f\"Error calling WebdriverIO server: {e}\"\n",
    "\n",
    "@tool\n",
    "def set_value_action(element_selector: str, value: str) -> str:\n",
    "    \"\"\"Set value for an element in Chrome browser using WebdriverIO server.\"\"\"\n",
    "    try:\n",
    "        resp = requests.post(f\"{SERVER_URL}/set-value\", json={\"selector\": element_selector, \"value\": value})\n",
    "        return resp.text\n",
    "    except Exception as e:\n",
    "        return f\"Error calling WebdriverIO server: {e}\"\n",
    "\n",
    "@tool\n",
    "def get_page_source() -> str:\n",
    "    \"\"\"Get the HTML source of the current page using WebdriverIO server.\"\"\"\n",
    "    try:\n",
    "        resp = requests.post(f\"{SERVER_URL}/source\")\n",
    "        return resp.text\n",
    "    except Exception as e:\n",
    "        return f\"Error calling WebdriverIO server: {e}\""
   ]
  },
  {
   "cell_type": "markdown",
   "id": "f4e6d6cb",
   "metadata": {},
   "source": [
    "### Hook tool to local LLM"
   ]
  },
  {
   "cell_type": "code",
   "execution_count": null,
   "id": "faae0403",
   "metadata": {},
   "outputs": [],
   "source": [
    "from langchain.agents import initialize_agent, AgentType\n",
    "tools = [open_browser, navigate_to_url, click_action, set_value_action, get_page_source]\n",
    "\n",
    "agent = initialize_agent(tools, llm, agent=AgentType.OPENAI_FUNCTIONS, verbose=True)\n",
    "\n",
    "scenario = (\n",
    "    \"Scenario:\\n\"\n",
    "    \"1. Navigate to https://www.saucedemo.com/v1/index.html.\\n\"\n",
    "    \"2. Login with username standard_user and password secret_sauce.\\n\"\n",
    "    \"3. Add the first 2 products to the cart.\\n\"\n",
    "    \"4. Click the cart icon and go to the cart page.\\n\"\n",
    "    \"5. Verify 2 items are added and visible in the cart.\"\n",
    ")\n",
    "\n",
    "response = agent.run(scenario)\n",
    "print(response)"
   ]
  },
  {
   "cell_type": "code",
   "execution_count": null,
   "id": "924e32d2",
   "metadata": {},
   "outputs": [],
   "source": [
    "webdriverio_test_prompt = (\n",
    "    \"Generate a WebdriverIO (JavaScript) test script for the following scenario:\\n\"\n",
    "    \"1. Navigate to https://www.saucedemo.com/v1/index.html\\n\"\n",
    "    \"2. Login with username standard_user and password secret_sauce\\n\"\n",
    "    \"3. Add the first 2 products to the cart\\n\"\n",
    "    \"4. Click the cart icon and go to the cart page\\n\"\n",
    "    \"5. Verify 2 items are added and visible in the cart.\"\n",
    ")\n",
    "\n",
    "wdio_test_code = llm.invoke(webdriverio_test_prompt)\n",
    "print(wdio_test_code)\n",
    "js_code = wdio_test_code.content\n",
    "with open(\"saucedemo_test.js\", \"w\", encoding=\"utf-8\") as f:\n",
    "    f.write(js_code)"
   ]
  }
 ],
 "metadata": {
  "kernelspec": {
   "display_name": "Python 3",
   "language": "python",
   "name": "python3"
  },
  "language_info": {
   "codemirror_mode": {
    "name": "ipython",
    "version": 3
   },
   "file_extension": ".py",
   "mimetype": "text/x-python",
   "name": "python",
   "nbconvert_exporter": "python",
   "pygments_lexer": "ipython3",
   "version": "3.11.4"
  }
 },
 "nbformat": 4,
 "nbformat_minor": 5
}
